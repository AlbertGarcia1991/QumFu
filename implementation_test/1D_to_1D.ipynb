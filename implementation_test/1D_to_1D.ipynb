{
 "cells": [
  {
   "cell_type": "markdown",
   "metadata": {
    "collapsed": true,
    "pycharm": {
     "name": "#%% md\n"
    }
   },
   "source": [
    "# Test implementation on 1D to 1D problems\n",
    "### Problem Setup\n",
    "To start testing the algorithm, we are going to try to optimize finding the absolute minima of a function with\n",
    "one input and one output. Lets start defining this function:"
   ]
  },
  {
   "cell_type": "code",
   "execution_count": 1,
   "outputs": [],
   "source": [
    "import numpy as np\n",
    "import matplotlib.pyplot as plt\n",
    "import matplotlib.lines as mlines\n",
    "import warnings\n",
    "from sklearn.gaussian_process import GaussianProcessRegressor\n",
    "from scipy.stats import norm\n",
    "\n",
    "plt.style.use('dark_background')\n"
   ],
   "metadata": {
    "collapsed": false,
    "pycharm": {
     "name": "#%%\n"
    }
   }
  },
  {
   "cell_type": "code",
   "execution_count": 2,
   "outputs": [],
   "source": [
    "# Implementation of the same algorithm using out own tool\n",
    "from search_space import *\n",
    "from evaluation_metrics import *"
   ],
   "metadata": {
    "collapsed": false,
    "pycharm": {
     "name": "#%%\n"
    }
   }
  },
  {
   "cell_type": "code",
   "execution_count": 3,
   "outputs": [],
   "source": [
    "# objective function is to MAXIMIZE the value of the function\n",
    "class ObjectiveFunction:\n",
    "    def __init__(self):\n",
    "        self.name = self.__class__.__name__\n",
    "        self._params = None\n",
    "\n",
    "    @property\n",
    "    def params(self):\n",
    "        return self._params\n",
    "\n",
    "    @params.setter\n",
    "    def params(self, params_dict):\n",
    "        self._params = params_dict\n",
    "\n",
    "    @params.deleter\n",
    "    def params(self):\n",
    "        del self._params\n",
    "\n",
    "    def run(self):\n",
    "\t    return self.params[\"X\"]**2 * np.sin(5 * np.pi * self.params[\"X\"])**6"
   ],
   "metadata": {
    "collapsed": false,
    "pycharm": {
     "name": "#%%\n"
    }
   }
  },
  {
   "cell_type": "code",
   "execution_count": 4,
   "outputs": [],
   "source": [
    "def random_search_optimization(search_space: SearchSpace,\n",
    "                               f: ObjectiveFunction,\n",
    "                               metric: callable,\n",
    "                               metric_args: np.ndarray = None,\n",
    "                               n_iters: int = 100,\n",
    "                               ):\n",
    "    explored_space = []\n",
    "    X = []\n",
    "    y =[]\n",
    "    performances = []\n",
    "    for _ in range(n_iters):\n",
    "        search_space.sample()\n",
    "        f.params = search_space.current\n",
    "        X.append(f.params[\"X\"])\n",
    "        y.append(f.run())\n",
    "        explored_space.append([X[-1], y[-1]])\n",
    "        if metric_args is None:\n",
    "            performances.append(metric([y[-1], 0, 0]))\n",
    "        else:\n",
    "            performances.append(metric([y[-1], 0, 0], metric_args))\n",
    "    explored_space = np.array(explored_space)\n",
    "    performances = np.array(performances)\n",
    "    return explored_space, performances"
   ],
   "metadata": {
    "collapsed": false,
    "pycharm": {
     "name": "#%%\n"
    }
   }
  },
  {
   "cell_type": "code",
   "execution_count": 5,
   "outputs": [],
   "source": [
    "se_dict = {\n",
    "    \"X\": InputValueSpace(\n",
    "        se_type=float_random, params_dict={\"lower_bound\": 0, \"upper_bound\": 1}\n",
    "    ),\n",
    "}\n",
    "\n",
    "se = SearchSpace(input_dict=se_dict)\n",
    "metric_weights = np.array([1, 0, 0])\n",
    "\n",
    "explored_space, performances = random_search_optimization(search_space=se,\n",
    "                                                          f=ObjectiveFunction(),\n",
    "                                                          metric=weighted_score,\n",
    "                                                          n_iters=50,\n",
    "                                                          )"
   ],
   "metadata": {
    "collapsed": false,
    "pycharm": {
     "name": "#%%\n"
    }
   }
  },
  {
   "cell_type": "code",
   "execution_count": 6,
   "outputs": [
    {
     "data": {
      "text/plain": "<Figure size 432x288 with 1 Axes>",
      "image/png": "[encoded data removed]"
     },
     "metadata": {},
     "output_type": "display_data"
    },
    {
     "data": {
      "text/plain": "<Figure size 432x288 with 1 Axes>",
      "image/png": "[encoded data removed]"
     },
     "metadata": {},
     "output_type": "display_data"
    }
   ],
   "source": [
    "plt.scatter(explored_space.T[0], np.zeros(len(explored_space)))\n",
    "plt.show()\n",
    "\n",
    "plt.scatter(explored_space.T[0], performances)\n",
    "plt.show()"
   ],
   "metadata": {
    "collapsed": false,
    "pycharm": {
     "name": "#%%\n"
    }
   }
  },
  {
   "cell_type": "code",
   "execution_count": 7,
   "outputs": [],
   "source": [
    "## Bayesian Search"
   ],
   "metadata": {
    "collapsed": false,
    "pycharm": {
     "name": "#%%\n"
    }
   }
  },
  {
   "cell_type": "code",
   "execution_count": 8,
   "outputs": [],
   "source": [
    "\n",
    "def bayesian_search_optimization(search_space: SearchSpace,\n",
    "                                 f: ObjectiveFunction,\n",
    "                                 metric: callable,\n",
    "                                 metric_args: np.ndarray = None,\n",
    "                                 initial_sampled_space_size: int = 100,\n",
    "                                 secondary_sampled_space_size: int = 50,\n",
    "                                 n_iters: int = 100,\n",
    "                                 ):\n",
    "    # Sample initial random space\n",
    "    explored_space = []\n",
    "    for _ in range(initial_sampled_space_size):\n",
    "        search_space.sample()\n",
    "        f.params = search_space.current\n",
    "        explored_space.append([f.params[\"X\"], f.run(), metric([f.run(), 0, 0], metric_args)])\n",
    "\n",
    "    # Initialize the GPR model and fit it to the initial sampled space\n",
    "    model = GaussianProcessRegressor()\n",
    "    model.fit(np.array(explored_space).T[0].reshape(-1, 1), np.array(explored_space).T[2].reshape(-1, 1))\n",
    "\n",
    "    for _ in range(n_iters):\n",
    "        # Find optimal value from X\n",
    "        y_best = np.max(np.array(explored_space).T[2])\n",
    "\n",
    "        # Generate new (secondary) sampled space vector\n",
    "        X_ = []\n",
    "        y_ = []\n",
    "        for _ in range(secondary_sampled_space_size):\n",
    "            search_space.sample()\n",
    "            f.params = search_space.current\n",
    "            X_.append(f.params[\"X\"])\n",
    "            y_.append(f.run())\n",
    "        X_ = np.array(X_).reshape(len(X_), 1)\n",
    "\n",
    "        # Predict GPR values on the secondary sampled explored_space\n",
    "        mu, std = model.predict(X_, return_std=True)\n",
    "        mu = mu[:, 0]\n",
    "\n",
    "        # Compute likely improvement for each space on the secondary sampled space\n",
    "        probs = norm.cdf((mu - y_best) / (std + 1E-9))\n",
    "\n",
    "        # Find best probability value and the secondary input value that generated it\n",
    "        idx_best = np.argmax(probs)\n",
    "\n",
    "        # Append best values to the main sampled space\n",
    "        explored_space.append([X_[idx_best][0], y_[idx_best], metric([y_[idx_best], 0, 0], metric_args)])\n",
    "\n",
    "        # Fit again GPR with the new added pair of values\n",
    "        model.fit(np.array(explored_space).T[0].reshape(-1, 1), np.array(explored_space).T[2].reshape(-1, 1))\n",
    "\n",
    "    explored_space = np.array(explored_space)\n",
    "\n",
    "    return explored_space, model"
   ],
   "metadata": {
    "collapsed": false,
    "pycharm": {
     "name": "#%%\n"
    }
   }
  },
  {
   "cell_type": "code",
   "execution_count": 9,
   "outputs": [],
   "source": [
    "se_dict = {\n",
    "    \"X\": InputValueSpace(\n",
    "        se_type=float_random, params_dict={\"lower_bound\": 0, \"upper_bound\": 1}\n",
    "    ),\n",
    "}\n",
    "se = SearchSpace(input_dict=se_dict)\n",
    "\n",
    "se = SearchSpace(input_dict=se_dict)\n",
    "metric_weights = np.array([2, 100, 10])\n",
    "\n",
    "explored_space, gbmodel = bayesian_search_optimization(search_space=se,\n",
    "                                                            f=ObjectiveFunction(),\n",
    "                                                            metric=weighted_score,\n",
    "                                                            metric_args=metric_weights,\n",
    "                                                            initial_sampled_space_size=100,\n",
    "                                                            secondary_sampled_space_size=10,\n",
    "                                                            n_iters=10)"
   ],
   "metadata": {
    "collapsed": false,
    "pycharm": {
     "name": "#%%\n"
    }
   }
  },
  {
   "cell_type": "code",
   "execution_count": 10,
   "outputs": [
    {
     "data": {
      "text/plain": "<Figure size 432x288 with 1 Axes>",
      "image/png": "[encoded data removed]"
     },
     "metadata": {},
     "output_type": "display_data"
    },
    {
     "data": {
      "text/plain": "<Figure size 432x288 with 1 Axes>",
      "image/png": "[encoded data removed]"
     },
     "metadata": {},
     "output_type": "display_data"
    },
    {
     "data": {
      "text/plain": "<Figure size 432x288 with 1 Axes>",
      "image/png": "[encoded data removed]"
     },
     "metadata": {},
     "output_type": "display_data"
    },
    {
     "data": {
      "text/plain": "<Figure size 432x288 with 1 Axes>",
      "image/png": "[encoded data removed]"
     },
     "metadata": {},
     "output_type": "display_data"
    }
   ],
   "source": [
    "plt.scatter(explored_space.T[0], np.zeros(len(explored_space)))\n",
    "plt.show()\n",
    "\n",
    "plt.scatter(explored_space.T[0], explored_space.T[1])\n",
    "plt.show()\n",
    "\n",
    "plt.scatter(explored_space.T[0], explored_space.T[2])\n",
    "plt.show()\n",
    "\n",
    "X = np.arange(0, 1, 0.001)\n",
    "y = gbmodel.predict(X.reshape(-1, 1))\n",
    "plt.plot(X, y)\n",
    "plt.show()"
   ],
   "metadata": {
    "collapsed": false,
    "pycharm": {
     "name": "#%%\n"
    }
   }
  }
 ],
 "metadata": {
  "kernelspec": {
   "name": "pycharm-dc3a814d",
   "language": "python",
   "display_name": "PyCharm (hypertuning)"
  },
  "language_info": {
   "codemirror_mode": {
    "name": "ipython",
    "version": 2
   },
   "file_extension": ".py",
   "mimetype": "text/x-python",
   "name": "python",
   "nbconvert_exporter": "python",
   "pygments_lexer": "ipython2",
   "version": "2.7.6"
  }
 },
 "nbformat": 4,
 "nbformat_minor": 0
}